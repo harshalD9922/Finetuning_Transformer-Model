{
  "nbformat": 4,
  "nbformat_minor": 0,
  "metadata": {
    "colab": {
      "name": "Attentation.ipynb",
      "private_outputs": true,
      "provenance": [],
      "authorship_tag": "ABX9TyPPTa86ZnBYYxi2qk5c5Ljk",
      "include_colab_link": true
    },
    "kernelspec": {
      "name": "python3",
      "display_name": "Python 3"
    },
    "language_info": {
      "name": "python"
    }
  },
  "cells": [
    {
      "cell_type": "markdown",
      "metadata": {
        "id": "view-in-github",
        "colab_type": "text"
      },
      "source": [
        "<a href=\"https://colab.research.google.com/github/harshalDharpure/Attentation/blob/main/Attentation.ipynb\" target=\"_parent\"><img src=\"https://colab.research.google.com/assets/colab-badge.svg\" alt=\"Open In Colab\"/></a>"
      ]
    },
    {
      "cell_type": "code",
      "metadata": {
        "id": "lCD-_jSmkp5G"
      },
      "source": [
        "hello = [0.71, 0.14, 0.51]\n",
        "hi = [0.69, 0.15, 0.48]\n",
        "tomato = [0.16, 0.59, 0.49]"
      ],
      "execution_count": null,
      "outputs": []
    },
    {
      "cell_type": "code",
      "metadata": {
        "id": "kT4lwZgVkyzv"
      },
      "source": [
        "import matplotlib.pyplot as plt\n",
        "fig = plt.figure(figsize=(16,12))\n",
        "ax = fig.add_subplot(projection='3d')\n",
        "xs = [hello[0], hi[0], tomato[0]]\n",
        "ys = [hello[1], hi[1], tomato[1]]\n",
        "zs = [hello[2], hi[2], tomato[2]]\n",
        "ax.scatter(xs, ys, zs, s=100)\n",
        "ax.set_xlim((0, 1))\n",
        "ax.set_ylim((0, 1))\n",
        "ax.set_zlim((0, 1))\n",
        "plt.show()"
      ],
      "execution_count": null,
      "outputs": []
    },
    {
      "cell_type": "code",
      "metadata": {
        "id": "7zMcgWSlk_yi"
      },
      "source": [
        "import numpy as np\n",
        "a = np.array(hello)\n",
        "b = np.array(hi)\n",
        "c = np.array(tomato)\n",
        "np.matmul(a, b.T)"
      ],
      "execution_count": null,
      "outputs": []
    },
    {
      "cell_type": "code",
      "metadata": {
        "id": "VH3iDdyolNQW"
      },
      "source": [
        "np.matmul(a, c.T)"
      ],
      "execution_count": null,
      "outputs": []
    },
    {
      "cell_type": "code",
      "metadata": {
        "id": "5tdWkbxvlR9e"
      },
      "source": [
        "np.matmul(b, c.T)"
      ],
      "execution_count": null,
      "outputs": []
    }
  ]
}